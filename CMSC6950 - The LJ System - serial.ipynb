{
 "cells": [
  {
   "cell_type": "markdown",
   "metadata": {},
   "source": [
    "# CMSC6950 Parallel Computing\n",
    "## Introduction: A Lennard Jones System\n"
   ]
  },
  {
   "cell_type": "code",
   "execution_count": 1,
   "metadata": {
    "collapsed": false
   },
   "outputs": [],
   "source": [
    "import matplotlib.pyplot as plt\n",
    "import numpy as np\n",
    "from lennard_jones_potential import *\n",
    "%matplotlib inline"
   ]
  },
  {
   "cell_type": "markdown",
   "metadata": {},
   "source": [
    "### The Lennard-Jones Potential\n",
    "\n",
    "The Lennard-Jones potential (also referred to as the L-J potential, 6-12 potential, or 12-6 potential) is a mathematically simple model that approximates the interaction between a pair of neutral atoms or molecules.\n",
    "\n",
    "There are many different ways of formulating the Lennard-Jones potential. \n",
    "\n",
    "We are going to use the followig form, sometimes referred to as AB-form: \n",
    "\n",
    "\n",
    "$$ V_{LJ} =  \\left( \\frac{A}{r^{12}} \\right) - \\left( \\frac{B}{r^{6}} \\right) $$"
   ]
  },
  {
   "cell_type": "markdown",
   "metadata": {},
   "source": [
    "The function is implemented as:\n",
    "\n",
    "```python\n",
    "def v_LJ(r, A=5174175., B=27075.):\n",
    "    \"calculates Lennard-Jones potential for given distance r and A & B parameters\"\n",
    "    return ( (A/(r**12)) - (B/(r**6)) )\n",
    "```\n"
   ]
  },
  {
   "cell_type": "markdown",
   "metadata": {},
   "source": [
    "To visualize the potential we create a series of nineary spaced distances between 0.1 and 10, calculate the potential energy for each of them and plot it using matplotlib:"
   ]
  },
  {
   "cell_type": "code",
   "execution_count": 15,
   "metadata": {
    "collapsed": false
   },
   "outputs": [
    {
     "data": {
      "text/plain": [
       "<matplotlib.text.Text at 0x7fa642bfd240>"
      ]
     },
     "execution_count": 15,
     "metadata": {},
     "output_type": "execute_result"
    },
    {
     "data": {
      "image/png": "[encoded data removed]",
      "text/plain": [
       "<matplotlib.figure.Figure at 0x7fa642b6d208>"
      ]
     },
     "metadata": {},
     "output_type": "display_data"
    }
   ],
   "source": [
    "distances = np.linspace(0.1,10.0, 101) # 101 values from 0.1 to 10\n",
    "potentials = []\n",
    "for d in distances:\n",
    "    potentials.append( v_LJ(d) )\n",
    "\n",
    "# Plot LJ potential\n",
    "plt.plot(distances, np.array(potentials) )\n",
    "plt.axis([0, 10, -50.0, 25.0])\n",
    "plt.xlabel(\"Distance: r\")\n",
    "plt.ylabel(\"Potential Energy: $V_{LJ}$\")"
   ]
  },
  {
   "cell_type": "markdown",
   "metadata": {},
   "source": [
    "### The System\n",
    "\n",
    "We use the function generate_coordinates() to generate a list of *n* pseudo-random coordinates in a *dim* dimensional space.  The coordinates are random samples from a uniform distribution between 0 and *upper*, i.e. *upper* is the size of our square (dim=2) / cubic (dim=3) simulation box.\n",
    "\n",
    "The seed is used to initialize the pseudo-random-number-generator (prng) to produce always the same system.\n",
    "\n",
    "The function is implemented as:\n",
    "\n",
    "```python\n",
    "def generate_coodinates(n=1000, dim=2, upper=100, seed=1):\n",
    "    \"generates n random coordinates in dim dimensional space\"\n",
    "    np.random.seed(seed)\n",
    "    coords = np.random.rand(n, dim) * upper\n",
    "    return coords\n",
    "```\n"
   ]
  },
  {
   "cell_type": "markdown",
   "metadata": {},
   "source": [
    "A 2-dimensional system of 100 particles looks like:"
   ]
  },
  {
   "cell_type": "code",
   "execution_count": 3,
   "metadata": {
    "collapsed": false
   },
   "outputs": [
    {
     "data": {
      "text/plain": [
       "[0, 10, 0, 10]"
      ]
     },
     "execution_count": 3,
     "metadata": {},
     "output_type": "execute_result"
    },
    {
     "data": {
      "image/png": "[encoded data removed]",
      "text/plain": [
       "<matplotlib.figure.Figure at 0x7fa643147a90>"
      ]
     },
     "metadata": {},
     "output_type": "display_data"
    }
   ],
   "source": [
    "coords = generate_coodinates(100,2,10)\n",
    "\n",
    "plt.figure(1, figsize=(6,6))\n",
    "plt.scatter(coords.T[0], coords.T[1])\n",
    "plt.axis([0, 10, 0, 10])\n"
   ]
  },
  {
   "cell_type": "markdown",
   "metadata": {},
   "source": [
    "### Calculating Distances\n",
    "\n",
    "To calculate the distances of every combination of i-j pairs, we only need to consider combinations of points where $j > i$ because when $i=j$ the distance is 0 and $r_{i,j} = r_{j,i}$ and there is no need to account for a the same pair twice.\n",
    "\n",
    "\n",
    "```\n",
    "j\\i  1   2   3   4\n",
    "\n",
    "1    -   -   -   -\n",
    "\n",
    "2   21   -   -   -\n",
    "\n",
    "3   31  32   -   -\n",
    "\n",
    "4   41  42  43   - \n",
    "```\n",
    "\n",
    "To calculate the distance $r$ we use the Pythagorean Theorem:\n",
    "\n",
    "$$ r_{ij} = \\sqrt{ (x_i - x_j)^2 + (y_i - y_j)^2 } $$\n",
    "\n",
    "or it's expansion to the 3rd dimension:\n",
    "$$ r_{ij} = \\sqrt{ (x_i - x_j)^2 + (y_i - y_j)^2 + (z_i - z_j)^2 } $$\n",
    "\n",
    "The function is implemented as:\n",
    "\n",
    "```python\n",
    "def calc_distances(points):\n",
    "    \"calculate distances for each pair of points\"\n",
    "    distances = []\n",
    "    for i in range(len(points)):\n",
    "        for j in range(len(points)):\n",
    "            if j>i:\n",
    "                r = np.sqrt(np.sum(np.square(np.subtract(points[i],points[j]))))\n",
    "                distances.append(r)\n",
    "\n",
    "    return np.array(distances)\n",
    "```\n",
    "\n",
    "For computational efficiency it makes use of the numpy functions `subtract`, `square`, `sum`, and `sqrt`.\n"
   ]
  },
  {
   "cell_type": "code",
   "execution_count": 18,
   "metadata": {
    "collapsed": false
   },
   "outputs": [],
   "source": [
    "def run_serial(n_points):\n",
    "    ''' Run the calculation of the potiential energy in serial.\n",
    "    \n",
    "    - generate coordinates for *n_points* of particles.\n",
    "    - calculate the distances for particle pairs\n",
    "    - calculate the LJ potential and sum it up.\n",
    "    - print the total energy    \n",
    "    '''\n",
    "    coords  = generate_coodinates(n_points, 3, upper=100, seed=5)\n",
    "    \n",
    "    dists   = calc_distances(coords)\n",
    "    \n",
    "    v_total = 0\n",
    "    for d in dists:\n",
    "        v_total += v_LJ(d)\n",
    "    \n",
    "    print(v_total)"
   ]
  },
  {
   "cell_type": "code",
   "execution_count": 19,
   "metadata": {
    "collapsed": false
   },
   "outputs": [
    {
     "name": "stdout",
     "output_type": "stream",
     "text": [
      "23630468668.9\n",
      "23630468668.9\n",
      "23630468668.9\n",
      "23630468668.9\n",
      "1 loop, best of 3: 13.8 s per loop\n"
     ]
    }
   ],
   "source": [
    "    %timeit run_serial(2000)"
   ]
  },
  {
   "cell_type": "code",
   "execution_count": null,
   "metadata": {
    "collapsed": false
   },
   "outputs": [],
   "source": []
  },
  {
   "cell_type": "code",
   "execution_count": null,
   "metadata": {
    "collapsed": true
   },
   "outputs": [],
   "source": []
  }
 ],
 "metadata": {
  "kernelspec": {
   "display_name": "Python 3",
   "language": "python",
   "name": "python3"
  },
  "language_info": {
   "codemirror_mode": {
    "name": "ipython",
    "version": 3
   },
   "file_extension": ".py",
   "mimetype": "text/x-python",
   "name": "python",
   "nbconvert_exporter": "python",
   "pygments_lexer": "ipython3",
   "version": "3.5.1"
  }
 },
 "nbformat": 4,
 "nbformat_minor": 0
}
